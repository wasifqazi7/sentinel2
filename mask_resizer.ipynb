{
 "cells": [
  {
   "cell_type": "code",
   "execution_count": 1,
   "metadata": {},
   "outputs": [
    {
     "name": "stdout",
     "output_type": "stream",
     "text": [
      "✅ Resized and saved: C:\\Users\\wasif\\Desktop\\Annotated Images\\masks_resized\\image_10_annotated_resized.png\n",
      "✅ Resized and saved: C:\\Users\\wasif\\Desktop\\Annotated Images\\masks_resized\\image_14_annotated_resized.png\n",
      "✅ Resized and saved: C:\\Users\\wasif\\Desktop\\Annotated Images\\masks_resized\\image_15_annotated_resized.png\n",
      "✅ Resized and saved: C:\\Users\\wasif\\Desktop\\Annotated Images\\masks_resized\\image_1_annotated_resized.png\n",
      "\n",
      "🎉 All masks resized to match stacked image resolution!\n"
     ]
    }
   ],
   "source": [
    "from PIL import Image\n",
    "import os\n",
    "\n",
    "# Input/Output paths\n",
    "input_mask_dir = r\"C:\\Users\\wasif\\Downloads\\extra\"\n",
    "output_mask_dir = r\"C:\\Users\\wasif\\Desktop\\Annotated Images\\masks_resized\"\n",
    "os.makedirs(output_mask_dir, exist_ok=True)\n",
    "\n",
    "# Target size (based on stacked Sentinel-2 image resolution)\n",
    "TARGET_SIZE = (10980, 10980)  # width x height\n",
    "\n",
    "# Process all masks\n",
    "for filename in os.listdir(input_mask_dir):\n",
    "    if filename.endswith(\".png\"):\n",
    "        input_path = os.path.join(input_mask_dir, filename)\n",
    "        output_path = os.path.join(output_mask_dir, filename.replace(\".png\", \"_resized.png\"))\n",
    "\n",
    "        try:\n",
    "            mask = Image.open(input_path)\n",
    "            resized_mask = mask.resize(TARGET_SIZE, resample=Image.NEAREST)  # use NEAREST to keep mask labels intact\n",
    "            resized_mask.save(output_path)\n",
    "            print(f\"✅ Resized and saved: {output_path}\")\n",
    "        except Exception as e:\n",
    "            print(f\"❌ Failed to process {filename}: {e}\")\n",
    "\n",
    "print(\"\\n🎉 All masks resized to match stacked image resolution!\")\n"
   ]
  },
  {
   "cell_type": "code",
   "execution_count": null,
   "metadata": {},
   "outputs": [],
   "source": []
  }
 ],
 "metadata": {
  "kernelspec": {
   "display_name": "Python 3",
   "language": "python",
   "name": "python3"
  },
  "language_info": {
   "codemirror_mode": {
    "name": "ipython",
    "version": 3
   },
   "file_extension": ".py",
   "mimetype": "text/x-python",
   "name": "python",
   "nbconvert_exporter": "python",
   "pygments_lexer": "ipython3",
   "version": "3.13.2"
  }
 },
 "nbformat": 4,
 "nbformat_minor": 2
}
