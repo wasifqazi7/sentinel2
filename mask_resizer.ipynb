{
 "cells": [
  {
   "cell_type": "code",
   "execution_count": 2,
   "metadata": {},
   "outputs": [
    {
     "name": "stdout",
     "output_type": "stream",
     "text": [
      "Resized @ C:\\Users\\wasif\\Desktop\\multispectral\\masks_resized\\image_10_annotated_resized.png\n",
      "Resized @ C:\\Users\\wasif\\Desktop\\multispectral\\masks_resized\\image_14_annotated_resized.png\n",
      "Resized @ C:\\Users\\wasif\\Desktop\\multispectral\\masks_resized\\image_15_annotated_resized.png\n",
      "Resized @ C:\\Users\\wasif\\Desktop\\multispectral\\masks_resized\\image_1_annotated_resized.png\n",
      "Resized @ C:\\Users\\wasif\\Desktop\\multispectral\\masks_resized\\image_20_annotated_resized.png\n",
      "Resized @ C:\\Users\\wasif\\Desktop\\multispectral\\masks_resized\\image_21_annotated_resized.png\n",
      "Resized @ C:\\Users\\wasif\\Desktop\\multispectral\\masks_resized\\image_24_annotated_resized.png\n",
      "Resized @ C:\\Users\\wasif\\Desktop\\multispectral\\masks_resized\\image_26_annotated_resized.png\n",
      "Resized @ C:\\Users\\wasif\\Desktop\\multispectral\\masks_resized\\image_28_annotated_resized.png\n",
      "Resized @ C:\\Users\\wasif\\Desktop\\multispectral\\masks_resized\\image_2_annotated_resized.png\n",
      "Resized @ C:\\Users\\wasif\\Desktop\\multispectral\\masks_resized\\image_30_annotated_resized.png\n",
      "Resized @ C:\\Users\\wasif\\Desktop\\multispectral\\masks_resized\\image_31_annotated_resized.png\n",
      "Resized @ C:\\Users\\wasif\\Desktop\\multispectral\\masks_resized\\image_35_annotated_resized.png\n",
      "Resized @ C:\\Users\\wasif\\Desktop\\multispectral\\masks_resized\\image_3_annotated_resized.png\n",
      "Resized @ C:\\Users\\wasif\\Desktop\\multispectral\\masks_resized\\image_40_annoated_resized.png\n",
      "Resized @ C:\\Users\\wasif\\Desktop\\multispectral\\masks_resized\\image_43_annotated_resized.png\n",
      "Resized @ C:\\Users\\wasif\\Desktop\\multispectral\\masks_resized\\image_44_annotated_resized.png\n",
      "Resized @ C:\\Users\\wasif\\Desktop\\multispectral\\masks_resized\\image_5_annotated_resized.png\n",
      "Resized @ C:\\Users\\wasif\\Desktop\\multispectral\\masks_resized\\image_9_annotated_resized.png\n"
     ]
    }
   ],
   "source": [
    "\"\"\"\n",
    "Author: Wasif Rasool Qazi\n",
    "Resizer script for Sentinel-2-Dataset\n",
    "\"\"\"\n",
    "\n",
    "\n",
    "\n",
    "from PIL import Image\n",
    "import os\n",
    "\n",
    "# Input/Output paths\n",
    "input_mask_dir = r\"C:\\Users\\wasif\\Desktop\\multispectral\\masks\"\n",
    "output_mask_dir = r\"C:\\Users\\wasif\\Desktop\\multispectral\\masks_resized\"\n",
    "os.makedirs(output_mask_dir, exist_ok=True)\n",
    "\n",
    "# Target size (wxh)\n",
    "TARGET_SIZE = (10980, 10980)  \n",
    "\n",
    "# Process all masks\n",
    "for filename in os.listdir(input_mask_dir):\n",
    "    if filename.endswith(\".png\"):\n",
    "        input_path = os.path.join(input_mask_dir, filename)\n",
    "        output_path = os.path.join(output_mask_dir, filename.replace(\".png\", \"_resized.png\"))\n",
    "\n",
    "        try:\n",
    "            mask = Image.open(input_path)\n",
    "            resized_mask = mask.resize(TARGET_SIZE, resample=Image.NEAREST)\n",
    "            resized_mask.save(output_path)\n",
    "            print(f\"Resized @ {output_path}\")\n",
    "        except Exception as e:\n",
    "            print(f\"Failed:{filename}: {e}\")"
   ]
  },
  {
   "cell_type": "code",
   "execution_count": null,
   "metadata": {},
   "outputs": [],
   "source": []
  }
 ],
 "metadata": {
  "kernelspec": {
   "display_name": "Python 3",
   "language": "python",
   "name": "python3"
  },
  "language_info": {
   "codemirror_mode": {
    "name": "ipython",
    "version": 3
   },
   "file_extension": ".py",
   "mimetype": "text/x-python",
   "name": "python",
   "nbconvert_exporter": "python",
   "pygments_lexer": "ipython3",
   "version": "3.13.2"
  }
 },
 "nbformat": 4,
 "nbformat_minor": 2
}
