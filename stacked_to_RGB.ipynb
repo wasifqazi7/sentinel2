{
 "cells": [
  {
   "cell_type": "code",
   "execution_count": 1,
   "metadata": {},
   "outputs": [
    {
     "name": "stdout",
     "output_type": "stream",
     "text": [
      "✅ Saved: C:\\Users\\wasif\\Desktop\\RGB_IMAGES\\Image_51_RGB.png\n",
      "✅ Saved: C:\\Users\\wasif\\Desktop\\RGB_IMAGES\\Image_52_RGB.png\n",
      "✅ Saved: C:\\Users\\wasif\\Desktop\\RGB_IMAGES\\Image_53_RGB.png\n",
      "✅ Saved: C:\\Users\\wasif\\Desktop\\RGB_IMAGES\\Image_54_RGB.png\n",
      "✅ Saved: C:\\Users\\wasif\\Desktop\\RGB_IMAGES\\Image_55_RGB.png\n",
      "✅ Saved: C:\\Users\\wasif\\Desktop\\RGB_IMAGES\\Image_56_RGB.png\n",
      "✅ Saved: C:\\Users\\wasif\\Desktop\\RGB_IMAGES\\Image_57_RGB.png\n"
     ]
    }
   ],
   "source": [
    "import rasterio\n",
    "import numpy as np\n",
    "from PIL import Image\n",
    "import os\n",
    "\n",
    "stacked_dir = r\"C:\\Users\\wasif\\Desktop\\stacked_images\"\n",
    "output_dir = r\"C:\\Users\\wasif\\Desktop\\RGB_IMAGES\"\n",
    "os.makedirs(output_dir, exist_ok=True)\n",
    "\n",
    "def normalize(band):\n",
    "    return ((band - band.min()) / (band.max() - band.min() + 1e-6) * 255).astype(np.uint8)\n",
    "\n",
    "# Loop through all stacked images\n",
    "for filename in os.listdir(stacked_dir):\n",
    "    if filename.endswith(\"_stacked.jp2\"):\n",
    "        image_path = os.path.join(stacked_dir, filename)\n",
    "        image_name = os.path.splitext(filename)[0].replace(\"_stacked\", \"\")\n",
    "        output_path = os.path.join(output_dir, f\"{image_name}_RGB.png\")\n",
    "\n",
    "        with rasterio.open(image_path) as src:\n",
    "            B4 = src.read(4)\n",
    "            B3 = src.read(3)\n",
    "            B2 = src.read(2)\n",
    "\n",
    "        rgb = np.stack([normalize(B4), normalize(B3), normalize(B2)], axis=-1)\n",
    "        Image.fromarray(rgb).save(output_path)\n",
    "\n",
    "        print(f\"✅ Saved: {output_path}\")\n"
   ]
  },
  {
   "cell_type": "code",
   "execution_count": 1,
   "metadata": {},
   "outputs": [
    {
     "name": "stdout",
     "output_type": "stream",
     "text": [
      "✅ Saved: C:\\Users\\wasif\\Desktop\\RGB_IMAGES\\Image_50_RGB.png\n"
     ]
    }
   ],
   "source": [
    "import rasterio\n",
    "import numpy as np\n",
    "from PIL import Image\n",
    "import os\n",
    "\n",
    "stacked_dir = r\"C:\\Users\\wasif\\Desktop\\stacked_images\"\n",
    "output_dir = r\"C:\\Users\\wasif\\Desktop\\RGB_IMAGES\"\n",
    "os.makedirs(output_dir, exist_ok=True)\n",
    "\n",
    "def normalize(band):\n",
    "    return ((band - band.min()) / (band.max() - band.min() + 1e-6) * 255).astype(np.uint8)\n",
    "\n",
    "# Loop through all stacked images\n",
    "for filename in os.listdir(stacked_dir):\n",
    "    if filename.endswith(\"_stacked.jp2\"):\n",
    "        image_path = os.path.join(stacked_dir, filename)\n",
    "        image_name = os.path.splitext(filename)[0].replace(\"_stacked\", \"\")\n",
    "        output_path = os.path.join(output_dir, f\"{image_name}_RGB.png\")\n",
    "\n",
    "        with rasterio.open(image_path) as src:\n",
    "            B4 = src.read(4)\n",
    "            B3 = src.read(3)\n",
    "            B2 = src.read(2)\n",
    "\n",
    "        rgb = np.stack([normalize(B4), normalize(B3), normalize(B2)], axis=-1)\n",
    "        Image.fromarray(rgb).save(output_path)\n",
    "\n",
    "        print(f\"✅ Saved: {output_path}\")\n"
   ]
  }
 ],
 "metadata": {
  "kernelspec": {
   "display_name": "Python 3",
   "language": "python",
   "name": "python3"
  },
  "language_info": {
   "codemirror_mode": {
    "name": "ipython",
    "version": 3
   },
   "file_extension": ".py",
   "mimetype": "text/x-python",
   "name": "python",
   "nbconvert_exporter": "python",
   "pygments_lexer": "ipython3",
   "version": "3.13.2"
  }
 },
 "nbformat": 4,
 "nbformat_minor": 2
}
