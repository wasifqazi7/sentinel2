{
 "cells": [
  {
   "cell_type": "code",
   "execution_count": 1,
   "metadata": {},
   "outputs": [
    {
     "name": "stdout",
     "output_type": "stream",
     "text": [
      "✅ All images and masks moved & renamed. Total: 6792 pairs.\n"
     ]
    }
   ],
   "source": [
    "import os\n",
    "import shutil\n",
    "\n",
    "# Land crops (2000)\n",
    "land_image_dir = r\"C:\\Users\\wasif\\Desktop\\Augmented_Full\\cropped_land_strict\\images\"\n",
    "land_mask_dir = r\"C:\\Users\\wasif\\Desktop\\Augmented_Full\\cropped_land_strict\\masks\"\n",
    "\n",
    "# Balanced crops (4792)\n",
    "balanced_image_dir = r\"C:\\Users\\wasif\\Desktop\\Augmented_Full\\cropped_balanced\\images\"\n",
    "balanced_mask_dir = r\"C:\\Users\\wasif\\Desktop\\Augmented_Full\\cropped_balanced\\masks\"\n",
    "\n",
    "# Output destination\n",
    "output_img_dir = r\"C:\\Users\\wasif\\Desktop\\SemanticSegmentationData\\images\"\n",
    "output_mask_dir = r\"C:\\Users\\wasif\\Desktop\\SemanticSegmentationData\\masks\"\n",
    "os.makedirs(output_img_dir, exist_ok=True)\n",
    "os.makedirs(output_mask_dir, exist_ok=True)\n",
    "\n",
    "# Helper function to copy & rename\n",
    "def copy_pairs(img_dir, mask_dir, start_idx):\n",
    "    counter = start_idx\n",
    "    for fname in os.listdir(img_dir):\n",
    "        if not fname.endswith(\".jp2\"):\n",
    "            continue\n",
    "        mask_fname = fname.replace(\".jp2\", \".png\")\n",
    "        mask_path = os.path.join(mask_dir, mask_fname)\n",
    "        img_path = os.path.join(img_dir, fname)\n",
    "\n",
    "        if os.path.exists(mask_path):\n",
    "            base_name = f\"img_{counter:05d}\"\n",
    "            shutil.copy(img_path, os.path.join(output_img_dir, f\"{base_name}.jp2\"))\n",
    "            shutil.copy(mask_path, os.path.join(output_mask_dir, f\"{base_name}.png\"))\n",
    "            counter += 1\n",
    "    return counter\n",
    "\n",
    "# Start fresh and combine both sources\n",
    "idx = copy_pairs(balanced_image_dir, balanced_mask_dir, 0)\n",
    "final_count = copy_pairs(land_image_dir, land_mask_dir, idx)\n",
    "\n",
    "print(f\"✅ All images and masks moved & renamed. Total: {final_count} pairs.\")\n"
   ]
  }
 ],
 "metadata": {
  "kernelspec": {
   "display_name": "Python 3",
   "language": "python",
   "name": "python3"
  },
  "language_info": {
   "codemirror_mode": {
    "name": "ipython",
    "version": 3
   },
   "file_extension": ".py",
   "mimetype": "text/x-python",
   "name": "python",
   "nbconvert_exporter": "python",
   "pygments_lexer": "ipython3",
   "version": "3.13.2"
  }
 },
 "nbformat": 4,
 "nbformat_minor": 2
}
